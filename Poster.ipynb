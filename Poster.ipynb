{
 "metadata": {
  "name": "",
  "signature": "sha256:6cb1c5573adaf2ecd06ad19a850eb77a0d91c51c5db24ab8d503dbcf05cff66c"
 },
 "nbformat": 3,
 "nbformat_minor": 0,
 "worksheets": [
  {
   "cells": [
    {
     "cell_type": "code",
     "collapsed": false,
     "input": [
      "from astropy.io.votable import parse\n",
      "votable = parse('data/3c273.xml').get_first_table()"
     ],
     "language": "python",
     "metadata": {},
     "outputs": [
      {
       "output_type": "stream",
       "stream": "stderr",
       "text": [
        "WARNING: W03: data/3c273.xml:9:0: W03: Implictly generating an ID from a name 'Photometric Data for 3C 273' -> 'Photometric_Data_for_3C_273' [astropy.io.votable.exceptions]\n",
        "WARNING:astropy:W03: data/3c273.xml:9:0: W03: Implictly generating an ID from a name 'Photometric Data for 3C 273' -> 'Photometric_Data_for_3C_273'\n"
       ]
      },
      {
       "output_type": "stream",
       "stream": "stderr",
       "text": [
        "WARNING: W06: data/3c273.xml:70:0: W06: Invalid UCD 'pos.eq': Secondary word 'pos.eq' is not valid as a primary word [astropy.io.votable.exceptions]\n",
        "WARNING:astropy:W06: data/3c273.xml:70:0: W06: Invalid UCD 'pos.eq': Secondary word 'pos.eq' is not valid as a primary word\n"
       ]
      },
      {
       "output_type": "stream",
       "stream": "stderr",
       "text": [
        "WARNING: W06: data/3c273.xml:105:0: W06: Invalid UCD 'phot.flux.density;em.freq;stat.error': Primary word 'stat.error' is not valid as a secondary word [astropy.io.votable.exceptions]\n",
        "WARNING:astropy:W06: data/3c273.xml:105:0: W06: Invalid UCD 'phot.flux.density;em.freq;stat.error': Primary word 'stat.error' is not valid as a secondary word\n"
       ]
      },
      {
       "output_type": "stream",
       "stream": "stderr",
       "text": [
        "WARNING: W06: data/3c273.xml:117:0: W06: Invalid UCD 'phot.flux.density;em.freq;stat.error': Primary word 'stat.error' is not valid as a secondary word [astropy.io.votable.exceptions]\n",
        "WARNING:astropy:W06: data/3c273.xml:117:0: W06: Invalid UCD 'phot.flux.density;em.freq;stat.error': Primary word 'stat.error' is not valid as a secondary word\n"
       ]
      },
      {
       "output_type": "stream",
       "stream": "stderr",
       "text": [
        "WARNING: W06: data/3c273.xml:120:0: W06: Invalid UCD 'phot.flux.density;em.freq;unit': Unknown word 'unit' [astropy.io.votable.exceptions]\n",
        "WARNING:astropy:W06: data/3c273.xml:120:0: W06: Invalid UCD 'phot.flux.density;em.freq;unit': Unknown word 'unit'\n"
       ]
      },
      {
       "output_type": "stream",
       "stream": "stderr",
       "text": [
        "WARNING: W06: data/3c273.xml:135:0: W06: Invalid UCD 'pos.eq;src': Secondary word 'pos.eq' is not valid as a primary word [astropy.io.votable.exceptions]\n",
        "WARNING:astropy:W06: data/3c273.xml:135:0: W06: Invalid UCD 'pos.eq;src': Secondary word 'pos.eq' is not valid as a primary word\n"
       ]
      }
     ],
     "prompt_number": 1
    },
    {
     "cell_type": "code",
     "collapsed": false,
     "input": [
      "spectral = votable.array['DataSpectralValue'].data\n",
      "flux = votable.array['DataFluxValue'].data\n",
      "error = votable.array['DataFluxStatErr'].data\n",
      "\n",
      "indices = spectral.argsort()\n",
      "spectral = spectral[indices]\n",
      "flux = flux[indices]\n",
      "error = error[indices]"
     ],
     "language": "python",
     "metadata": {},
     "outputs": [],
     "prompt_number": 2
    },
    {
     "cell_type": "code",
     "collapsed": false,
     "input": [
      "from astropy import units as u"
     ],
     "language": "python",
     "metadata": {},
     "outputs": [],
     "prompt_number": 3
    },
    {
     "cell_type": "code",
     "collapsed": false,
     "input": [
      "uflux = flux * u.jansky\n",
      "uerror_plus = (flux+error) * u.jansky"
     ],
     "language": "python",
     "metadata": {},
     "outputs": [],
     "prompt_number": 4
    },
    {
     "cell_type": "code",
     "collapsed": false,
     "input": [
      "spectral = (spectral*u.Hz).to(u.Angstrom, equivalencies=u.spectral())\n",
      "flux_density = uflux.to(u.Unit('erg/(s cm2)'), equivalencies=u.spectral_density(spectral))\n",
      "fd_error_plus = uerror_plus.to(u.Unit('erg/(s cm2)'), equivalencies=u.spectral_density(spectral))\n",
      "fd_error = fd_error_plus - flux_density"
     ],
     "language": "python",
     "metadata": {},
     "outputs": [],
     "prompt_number": 5
    },
    {
     "cell_type": "code",
     "collapsed": false,
     "input": [
      "from sherpa.astro import ui as sherpa\n",
      "import logging\n",
      "logging.getLogger('sherpa').propagate = False"
     ],
     "language": "python",
     "metadata": {},
     "outputs": [
      {
       "output_type": "stream",
       "stream": "stdout",
       "text": [
        "WARNING: imaging routines will not be available, \n",
        "failed to import sherpa.image.ds9_backend due to \n",
        "'RuntimeErr: DS9Win unusable: Could not find ds9 on your PATH'\n"
       ]
      },
      {
       "output_type": "stream",
       "stream": "stderr",
       "text": [
        "WARNING:sherpa.image:imaging routines will not be available, \n",
        "failed to import sherpa.image.ds9_backend due to \n",
        "'RuntimeErr: DS9Win unusable: Could not find ds9 on your PATH'\n"
       ]
      },
      {
       "output_type": "stream",
       "stream": "stdout",
       "text": [
        "WARNING: failed to import sherpa.astro.xspec; XSPEC models will not be available\n"
       ]
      },
      {
       "output_type": "stream",
       "stream": "stderr",
       "text": [
        "WARNING:sherpa.astro.all:failed to import sherpa.astro.xspec; XSPEC models will not be available\n"
       ]
      }
     ],
     "prompt_number": 6
    },
    {
     "cell_type": "code",
     "collapsed": false,
     "input": [
      "sherpa.load_arrays(1, spectral.tolist(), flux_density.tolist(), fd_error.tolist())"
     ],
     "language": "python",
     "metadata": {},
     "outputs": [],
     "prompt_number": 7
    },
    {
     "cell_type": "code",
     "collapsed": false,
     "input": [
      "sherpa.set_model(sherpa.brokenpowerlaw.bp)\n",
      "sherpa.notice()\n",
      "sherpa.set_stat('chi2')\n",
      "sherpa.fit()"
     ],
     "language": "python",
     "metadata": {},
     "outputs": [
      {
       "output_type": "stream",
       "stream": "stdout",
       "text": [
        "Dataset               = 1\n",
        "Method                = levmar\n",
        "Statistic             = chi2\n",
        "Initial fit statistic = 1.0005e+29\n",
        "Final fit statistic   = 728568 at function evaluation 33\n",
        "Data points           = 361\n",
        "Degrees of freedom    = 358\n",
        "Probability [Q-value] = 0\n",
        "Reduced statistic     = 2035.11\n",
        "Change in statistic   = 1.0005e+29\n",
        "   bp.ampl        1.65445e-10 \n",
        "   bp.index1      0.106584    \n",
        "   bp.index2      -0.422942   \n"
       ]
      }
     ],
     "prompt_number": 46
    },
    {
     "cell_type": "code",
     "collapsed": false,
     "input": [
      "sherpa.plot_fit()\n",
      "xscale('log') ; yscale('log')"
     ],
     "language": "python",
     "metadata": {},
     "outputs": [
      {
       "metadata": {},
       "output_type": "display_data",
       "png": "[encoded data removed]",
       "text": [
        "<matplotlib.figure.Figure at 0x107e98a50>"
       ]
      }
     ],
     "prompt_number": 47
    },
    {
     "cell_type": "code",
     "collapsed": false,
     "input": [
      "sherpa.set_conf_opt(\"max_rstat\",1e6)\n",
      "sherpa.set_conf_opt('sigma',1.6449)\n",
      "sherpa.conf()"
     ],
     "language": "python",
     "metadata": {},
     "outputs": [
      {
       "output_type": "stream",
       "stream": "stdout",
       "text": [
        "Dataset               = 1\n",
        "Confidence Method     = confidence\n",
        "Iterative Fit Method  = None\n",
        "Fitting Method        = levmar\n",
        "Statistic             = chi2\n",
        "confidence 1.6449-sigma (90.001%) bounds:\n",
        "   Param            Best-Fit  Lower Bound  Upper Bound\n",
        "   -----            --------  -----------  -----------\n",
        "   bp.ampl       1.65445e-10 -6.20553e-14  6.31121e-14\n",
        "   bp.index1        0.106584  -0.00102665   0.00105061\n",
        "   bp.index2       -0.422942  -0.00125003  0.000185551\n",
        "bp.ampl lower bound:\t-6.20553e-14\n",
        "bp.index2 -: WARNING: The confidence level lies within (-4.254421e-01, -4.229421e-01)\n",
        "bp.ampl +: WARNING: The confidence level lies within (1.655103e-10, 1.655053e-10)\n",
        "bp.index2 lower bound:\t-0.00125003\n",
        "bp.ampl upper bound:\t6.31121e-14\n",
        "bp.index2 upper bound:\t0.000185551\n",
        "bp.index1 lower bound:\t-0.00102665\n",
        "bp.index1 upper bound:\t0.00105061\n"
       ]
      }
     ],
     "prompt_number": 48
    },
    {
     "cell_type": "code",
     "collapsed": false,
     "input": [
      "sherpa.reg_proj(bp.index1, bp.index2, sigma=[1,1.6])"
     ],
     "language": "python",
     "metadata": {},
     "outputs": [
      {
       "metadata": {},
       "output_type": "display_data",
       "png": "[encoded data removed]",
       "text": [
        "<matplotlib.figure.Figure at 0x104c1f650>"
       ]
      }
     ],
     "prompt_number": 52
    },
    {
     "cell_type": "code",
     "collapsed": false,
     "input": [],
     "language": "python",
     "metadata": {},
     "outputs": []
    }
   ],
   "metadata": {}
  }
 ]
}